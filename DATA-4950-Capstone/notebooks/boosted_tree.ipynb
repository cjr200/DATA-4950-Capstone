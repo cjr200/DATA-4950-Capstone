{
 "cells": [
  {
   "attachments": {},
   "cell_type": "markdown",
   "metadata": {},
   "source": [
    "### Boosted Decision Tree Regressor"
   ]
  },
  {
   "cell_type": "code",
   "execution_count": 1,
   "metadata": {},
   "outputs": [],
   "source": [
    "import pandas as pd"
   ]
  },
  {
   "cell_type": "code",
   "execution_count": 2,
   "metadata": {},
   "outputs": [
    {
     "data": {
      "text/html": [
       "<div>\n",
       "<style scoped>\n",
       "    .dataframe tbody tr th:only-of-type {\n",
       "        vertical-align: middle;\n",
       "    }\n",
       "\n",
       "    .dataframe tbody tr th {\n",
       "        vertical-align: top;\n",
       "    }\n",
       "\n",
       "    .dataframe thead th {\n",
       "        text-align: right;\n",
       "    }\n",
       "</style>\n",
       "<table border=\"1\" class=\"dataframe\">\n",
       "  <thead>\n",
       "    <tr style=\"text-align: right;\">\n",
       "      <th></th>\n",
       "      <th>total_experience_years</th>\n",
       "      <th>annual_base_pay</th>\n",
       "      <th>signing_bonus</th>\n",
       "      <th>annual_bonus</th>\n",
       "      <th>job_category_Applied Science</th>\n",
       "      <th>job_category_Data</th>\n",
       "      <th>job_category_Engineering</th>\n",
       "      <th>job_category_Management</th>\n",
       "      <th>job_category_Operations</th>\n",
       "      <th>job_category_Other</th>\n",
       "      <th>job_category_Software</th>\n",
       "      <th>job_category_Web</th>\n",
       "    </tr>\n",
       "  </thead>\n",
       "  <tbody>\n",
       "    <tr>\n",
       "      <th>0</th>\n",
       "      <td>13.0</td>\n",
       "      <td>125000.0</td>\n",
       "      <td>5000.0</td>\n",
       "      <td>0.0</td>\n",
       "      <td>0</td>\n",
       "      <td>0</td>\n",
       "      <td>1</td>\n",
       "      <td>0</td>\n",
       "      <td>0</td>\n",
       "      <td>0</td>\n",
       "      <td>0</td>\n",
       "      <td>0</td>\n",
       "    </tr>\n",
       "    <tr>\n",
       "      <th>1</th>\n",
       "      <td>15.0</td>\n",
       "      <td>65000.0</td>\n",
       "      <td>5000.0</td>\n",
       "      <td>5000.0</td>\n",
       "      <td>0</td>\n",
       "      <td>0</td>\n",
       "      <td>0</td>\n",
       "      <td>0</td>\n",
       "      <td>0</td>\n",
       "      <td>0</td>\n",
       "      <td>1</td>\n",
       "      <td>0</td>\n",
       "    </tr>\n",
       "    <tr>\n",
       "      <th>2</th>\n",
       "      <td>4.0</td>\n",
       "      <td>86000.0</td>\n",
       "      <td>5000.0</td>\n",
       "      <td>6000.0</td>\n",
       "      <td>0</td>\n",
       "      <td>0</td>\n",
       "      <td>0</td>\n",
       "      <td>0</td>\n",
       "      <td>0</td>\n",
       "      <td>0</td>\n",
       "      <td>1</td>\n",
       "      <td>0</td>\n",
       "    </tr>\n",
       "    <tr>\n",
       "      <th>3</th>\n",
       "      <td>4.0</td>\n",
       "      <td>105000.0</td>\n",
       "      <td>5000.0</td>\n",
       "      <td>8500.0</td>\n",
       "      <td>0</td>\n",
       "      <td>0</td>\n",
       "      <td>0</td>\n",
       "      <td>0</td>\n",
       "      <td>0</td>\n",
       "      <td>1</td>\n",
       "      <td>0</td>\n",
       "      <td>0</td>\n",
       "    </tr>\n",
       "    <tr>\n",
       "      <th>4</th>\n",
       "      <td>4.0</td>\n",
       "      <td>110000.0</td>\n",
       "      <td>5000.0</td>\n",
       "      <td>7000.0</td>\n",
       "      <td>0</td>\n",
       "      <td>0</td>\n",
       "      <td>0</td>\n",
       "      <td>0</td>\n",
       "      <td>0</td>\n",
       "      <td>0</td>\n",
       "      <td>1</td>\n",
       "      <td>0</td>\n",
       "    </tr>\n",
       "  </tbody>\n",
       "</table>\n",
       "</div>"
      ],
      "text/plain": [
       "   total_experience_years  annual_base_pay  signing_bonus  annual_bonus  \\\n",
       "0                    13.0         125000.0         5000.0           0.0   \n",
       "1                    15.0          65000.0         5000.0        5000.0   \n",
       "2                     4.0          86000.0         5000.0        6000.0   \n",
       "3                     4.0         105000.0         5000.0        8500.0   \n",
       "4                     4.0         110000.0         5000.0        7000.0   \n",
       "\n",
       "   job_category_Applied Science  job_category_Data  job_category_Engineering  \\\n",
       "0                             0                  0                         1   \n",
       "1                             0                  0                         0   \n",
       "2                             0                  0                         0   \n",
       "3                             0                  0                         0   \n",
       "4                             0                  0                         0   \n",
       "\n",
       "   job_category_Management  job_category_Operations  job_category_Other  \\\n",
       "0                        0                        0                   0   \n",
       "1                        0                        0                   0   \n",
       "2                        0                        0                   0   \n",
       "3                        0                        0                   1   \n",
       "4                        0                        0                   0   \n",
       "\n",
       "   job_category_Software  job_category_Web  \n",
       "0                      0                 0  \n",
       "1                      1                 0  \n",
       "2                      1                 0  \n",
       "3                      0                 0  \n",
       "4                      1                 0  "
      ]
     },
     "execution_count": 2,
     "metadata": {},
     "output_type": "execute_result"
    }
   ],
   "source": [
    "# read in data\n",
    "df = pd.read_csv('/Users/calebreed/Documents/GitHub/DATA-4950-Capstone/DATA-4950-Capstone/data/external/salaries_clean.csv')\n",
    "# drop the outliers\n",
    "df = df[df.annual_base_pay < 1000000]\n",
    "# drop unneccessary variables\n",
    "df = df.drop([\"index\",\"salary_id\",\"location_latitude\",\"location_longitude\",\"comments\",\"submitted_at\"],axis=1)\n",
    "# job_title_rank, location_state, and location_country have too many missing values so they will be dropped\n",
    "df = df.drop(['job_title_rank','location_state','location_country'],axis=1)\n",
    "# drops employer experience years\n",
    "df = df.drop(\"employer_experience_years\",axis=1)\n",
    "# drops columns with too many unique values\n",
    "df = df.drop(\"employer_name\",axis=1)\n",
    "df = df.drop(\"job_title\",axis=1)\n",
    "df = df.drop(\"location_name\",axis=1) \n",
    "# fill experience missing values with the mean\n",
    "df.loc[:, \"total_experience_years\"] = df.loc[:, \"total_experience_years\"].fillna(df[\"total_experience_years\"].mean())\n",
    "df.loc[:, \"annual_base_pay\"] = df.loc[:, \"annual_base_pay\"].fillna(df[\"annual_base_pay\"].mean())\n",
    "df.loc[:, \"signing_bonus\"] = df.loc[:, \"signing_bonus\"].fillna(method='ffill')\n",
    "df.loc[:, \"annual_bonus\"] = df.loc[:, \"annual_bonus\"].fillna(method='ffill')\n",
    "# stock bonus is a string so will be dropping it\n",
    "df = df.drop(\"stock_value_bonus\",axis=1)\n",
    "# creates dummy variables for job category\n",
    "dummies = pd.get_dummies(df['job_title_category'], prefix='job_category')\n",
    "# merges dummy variables with dataframe and drops original column\n",
    "df = pd.concat([df, dummies], axis=1)\n",
    "df = df.drop('job_title_category', axis=1)\n",
    "df.head()"
   ]
  },
  {
   "cell_type": "code",
   "execution_count": 21,
   "metadata": {},
   "outputs": [
    {
     "data": {
      "text/plain": [
       "0.3941632660665042"
      ]
     },
     "execution_count": 21,
     "metadata": {},
     "output_type": "execute_result"
    }
   ],
   "source": [
    "from sklearn.datasets import make_regression\n",
    "from sklearn.ensemble import GradientBoostingRegressor\n",
    "from sklearn.model_selection import train_test_split\n",
    "\n",
    "# seperates features into x and y variables\n",
    "X = df.drop('annual_base_pay', axis = 1)\n",
    "\n",
    "y = df['annual_base_pay'] \n",
    "\n",
    "X, y = make_regression(random_state=0)\n",
    "\n",
    "# splits data into 70% training and 30% test\n",
    "X_train, X_test, y_train, y_test = train_test_split(X, y, test_size = 0.3, random_state = 42)\n",
    "\n",
    "# intial model\n",
    "reg = GradientBoostingRegressor(random_state=0)\n",
    "reg.fit(X_train, y_train)\n",
    "pred_val = reg.predict(X_test[1:2])\n",
    "reg.score(X_test, y_test)\n"
   ]
  },
  {
   "cell_type": "code",
   "execution_count": 4,
   "metadata": {},
   "outputs": [
    {
     "data": {
      "text/plain": [
       "{'alpha': 0.9,\n",
       " 'ccp_alpha': 0.0,\n",
       " 'criterion': 'friedman_mse',\n",
       " 'init': None,\n",
       " 'learning_rate': 0.1,\n",
       " 'loss': 'squared_error',\n",
       " 'max_depth': 3,\n",
       " 'max_features': None,\n",
       " 'max_leaf_nodes': None,\n",
       " 'min_impurity_decrease': 0.0,\n",
       " 'min_samples_leaf': 1,\n",
       " 'min_samples_split': 2,\n",
       " 'min_weight_fraction_leaf': 0.0,\n",
       " 'n_estimators': 100,\n",
       " 'n_iter_no_change': None,\n",
       " 'random_state': 0,\n",
       " 'subsample': 1.0,\n",
       " 'tol': 0.0001,\n",
       " 'validation_fraction': 0.1,\n",
       " 'verbose': 0,\n",
       " 'warm_start': False}"
      ]
     },
     "execution_count": 4,
     "metadata": {},
     "output_type": "execute_result"
    }
   ],
   "source": [
    "reg.get_params()"
   ]
  },
  {
   "cell_type": "code",
   "execution_count": 18,
   "metadata": {},
   "outputs": [
    {
     "data": {
      "text/plain": [
       "GridSearchCV(cv=3, estimator=GradientBoostingRegressor(),\n",
       "             param_grid={'loss': ['squared_error', 'absolute_error'],\n",
       "                         'max_depth': [3, 4, 5, 6, 7, 8],\n",
       "                         'n_estimators': [100, 200, 300, 400],\n",
       "                         'random_state': [0]})"
      ]
     },
     "execution_count": 18,
     "metadata": {},
     "output_type": "execute_result"
    }
   ],
   "source": [
    "# hyperparameter tuning using grid search\n",
    "from sklearn.model_selection import GridSearchCV\n",
    "\n",
    "param_grid = {\n",
    "    'loss': ['squared_error','absolute_error'],\n",
    "    'max_depth': [3,4,5,6,7,8],\n",
    "    'n_estimators': [100,200,300,400],\n",
    "    'random_state': [0]\n",
    "}\n",
    "\n",
    "gb = GradientBoostingRegressor()\n",
    "grid_search = GridSearchCV(estimator = gb, param_grid = param_grid, cv = 3)\n",
    "grid_search.fit(X_train, y_train)"
   ]
  },
  {
   "cell_type": "code",
   "execution_count": 19,
   "metadata": {},
   "outputs": [
    {
     "data": {
      "text/plain": [
       "{'loss': 'absolute_error',\n",
       " 'max_depth': 5,\n",
       " 'n_estimators': 400,\n",
       " 'random_state': 0}"
      ]
     },
     "execution_count": 19,
     "metadata": {},
     "output_type": "execute_result"
    }
   ],
   "source": [
    "grid_search.best_params_"
   ]
  },
  {
   "cell_type": "code",
   "execution_count": 23,
   "metadata": {},
   "outputs": [
    {
     "data": {
      "text/plain": [
       "0.3298237601108567"
      ]
     },
     "execution_count": 23,
     "metadata": {},
     "output_type": "execute_result"
    }
   ],
   "source": [
    "# grid search best parameters model\n",
    "final_tree = GradientBoostingRegressor(loss='absolute_error',max_depth=5,n_estimators=400,random_state=0)\n",
    "final_tree.fit(X_train, y_train)\n",
    "pred_val2 = final_tree.predict(X_test[1:2])\n",
    "final_tree.score(X_test, y_test)"
   ]
  },
  {
   "cell_type": "code",
   "execution_count": 24,
   "metadata": {},
   "outputs": [
    {
     "data": {
      "text/plain": [
       "{'alpha': 0.9,\n",
       " 'ccp_alpha': 0.0,\n",
       " 'criterion': 'friedman_mse',\n",
       " 'init': None,\n",
       " 'learning_rate': 0.1,\n",
       " 'loss': 'absolute_error',\n",
       " 'max_depth': 5,\n",
       " 'max_features': None,\n",
       " 'max_leaf_nodes': None,\n",
       " 'min_impurity_decrease': 0.0,\n",
       " 'min_samples_leaf': 1,\n",
       " 'min_samples_split': 2,\n",
       " 'min_weight_fraction_leaf': 0.0,\n",
       " 'n_estimators': 400,\n",
       " 'n_iter_no_change': None,\n",
       " 'random_state': 0,\n",
       " 'subsample': 1.0,\n",
       " 'tol': 0.0001,\n",
       " 'validation_fraction': 0.1,\n",
       " 'verbose': 0,\n",
       " 'warm_start': False}"
      ]
     },
     "execution_count": 24,
     "metadata": {},
     "output_type": "execute_result"
    }
   ],
   "source": [
    "final_tree.get_params()"
   ]
  },
  {
   "attachments": {},
   "cell_type": "markdown",
   "metadata": {},
   "source": [
    "The default model still has a better score. Will use the default model as the final model."
   ]
  },
  {
   "cell_type": "markdown",
   "metadata": {},
   "source": []
  }
 ],
 "metadata": {
  "kernelspec": {
   "display_name": "base",
   "language": "python",
   "name": "python3"
  },
  "language_info": {
   "codemirror_mode": {
    "name": "ipython",
    "version": 3
   },
   "file_extension": ".py",
   "mimetype": "text/x-python",
   "name": "python",
   "nbconvert_exporter": "python",
   "pygments_lexer": "ipython3",
   "version": "3.7.4"
  },
  "orig_nbformat": 4,
  "vscode": {
   "interpreter": {
    "hash": "de535f18ccd9149467b0436f330524e98529f5b148397ed21f7f9fa16a465515"
   }
  }
 },
 "nbformat": 4,
 "nbformat_minor": 2
}
